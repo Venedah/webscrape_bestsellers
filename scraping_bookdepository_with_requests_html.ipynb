{
  "cells": [
    {
      "cell_type": "markdown",
      "metadata": {
        "id": "GB7Kp5aj25CX"
      },
      "source": [
        "## Scraping Books with `requests-html`\n",
        "\n",
        "In last article() we will discuss how to make web scraping fast by doing what is called `async` web scraping using `requests-html`. Even though the `BeautifulSoup` and `httpx` combination is known to work well as I showed in my last [article](), there are other tools that can help us accomplish the same thing. In this article, we will discuss the following:\n",
        "\n",
        "1. Discover `requests-html` and how to use it.\n",
        "2. Async web scraping with `requests-html` package\n",
        "3. Data cleaning with `pandas`\n",
        "\n",
        "\n",
        "We will scrape bestsellers from the [bookdepository]() website."
      ]
    },
    {
      "cell_type": "markdown",
      "metadata": {
        "id": "BoZBLhEZG_Hs"
      },
      "source": [
        "To get started in using `requests-html` we let's learn a little bit about the the package. `requests-html` is a Python package for making the parsing of HTML easy and intuitive. It was created by [Kenneth Reitz](https://kennethreitz.org/), the same guy who created the `requests` library. It supplements the `requests` package especially. It comes with the following features:\n",
        "\n",
        "- Full JavaScript support!\n",
        "- CSS Selectors (a.k.a jQuery-style, thanks to PyQuery).\n",
        "- XPath Selectors, for the faint of heart.\n",
        "- Mocked user-agent (like a real web browser).\n",
        "- Automatic following of redirects.\n",
        "- Connection–pooling and cookie persistence.\n",
        "- The Requests experience you know and love, with magical parsing abilities.\n",
        "- Async Support\n",
        "`\n",
        "\n",
        "Now let's get started py installing it. One of the cool things about `requests-html` is that it has `async` support out of the box. That means that scrape of websites fast(assyncronously)."
      ]
    },
    {
      "cell_type": "code",
      "execution_count": null,
      "metadata": {
        "id": "q5hVXEgK1ULc"
      },
      "outputs": [],
      "source": [
        "!pip install requests-html"
      ]
    },
    {
      "cell_type": "code",
      "execution_count": null,
      "metadata": {
        "id": "aZK_cyGP3JyS"
      },
      "outputs": [],
      "source": [
        "from requests_html import AsyncHTMLSession\n",
        "\n",
        "asession = AsyncHTMLSession()\n",
        "\n",
        "r = await asession.get(\"https://www.bookdepository.com/bestsellers\")"
      ]
    },
    {
      "cell_type": "markdown",
      "metadata": {
        "id": "8ueoUVIX4DlZ"
      },
      "source": [
        "We first imported the `AsyncHTMLSession` class from `requests-html` and created an instance of it. Then we use we use the session's `get` method to get our website. Now if we check the status code, we will realize that it was successful(200).\n",
        "\n",
        "Now we can start getting the data we are interested starting with the titles of the books.\n",
        "\n",
        "To find out which `CSS selected or xpath` expressions we need to use to get our data, we need to inspect the html using developer tools in chrome. "
      ]
    },
    {
      "cell_type": "code",
      "execution_count": null,
      "metadata": {
        "colab": {
          "base_uri": "https://localhost:8080/"
        },
        "id": "aFHyhljT2BEC",
        "outputId": "cf3fbdf3-d1e6-4c12-baac-86349739e371"
      },
      "outputs": [
        {
          "data": {
            "text/plain": [
              "200"
            ]
          },
          "execution_count": 13,
          "metadata": {},
          "output_type": "execute_result"
        }
      ],
      "source": [
        "r.status_code # find out if successful"
      ]
    },
    {
      "cell_type": "code",
      "execution_count": null,
      "metadata": {
        "id": "aUNCFtWJ-scW"
      },
      "outputs": [],
      "source": [
        "# We get the titles\n",
        "page = 1\n",
        "titles = []\n",
        "while page != 35:\n",
        "  for x in r.html.find(\"h3.title\"):\n",
        "    titles.append(x.text)\n",
        "  page +=1\n"
      ]
    },
    {
      "cell_type": "markdown",
      "metadata": {
        "id": "AT3Me4iN7iVi"
      },
      "source": [
        "Notice that we first created 2 variables; `page` which will keep track of the pages on the website while `titles` will hold our data. We then used a `while loop` to traverse our pages and get the data while our page is less than the total number of 35(There are 34 pages on the website). I know this because I used the `chrome devtools` to inspect the `pagination` on the page.\n",
        "\n",
        "Then we used the `find` method from `requests-html` on our HTML content to get our data while passing in our CSS selector(which is an `h3` tag with the class `title`). After that we appended the result to our `titles` list. Now if you check the length of our list, you will see about 1020 titles.\n",
        "\n",
        "We will repeat process for the rest of the variables we are interested in. Don't forget to inspect the page source for the relevant CSS selectors for the items you need."
      ]
    },
    {
      "cell_type": "code",
      "execution_count": null,
      "metadata": {
        "colab": {
          "base_uri": "https://localhost:8080/"
        },
        "id": "pBdt7tOu-dso",
        "outputId": "7d5a75c5-e4ca-4d9c-af89-d038d11c90d2"
      },
      "outputs": [
        {
          "data": {
            "text/plain": [
              "1020"
            ]
          },
          "execution_count": 17,
          "metadata": {},
          "output_type": "execute_result"
        }
      ],
      "source": [
        "len(titles) # check the length"
      ]
    },
    {
      "cell_type": "code",
      "execution_count": null,
      "metadata": {
        "colab": {
          "base_uri": "https://localhost:8080/"
        },
        "id": "AZTb_BYU_a3I",
        "outputId": "27ed28b6-ad13-4594-ad96-97c13349f6d4"
      },
      "outputs": [
        {
          "data": {
            "text/plain": [
              "[\"It Ends With Us: The most heartbreaking novel you'll ever read\",\n",
              " 'It Starts with Us',\n",
              " 'It Starts with Us',\n",
              " 'The Climate Book',\n",
              " 'Rooms of Wonder',\n",
              " 'Verity',\n",
              " 'Fire and Blood',\n",
              " 'The Seven Moons of Maali Almeida',\n",
              " 'The Body Keeps the Score',\n",
              " 'TommyInnit Says...The Quote Book']"
            ]
          },
          "execution_count": 21,
          "metadata": {},
          "output_type": "execute_result"
        }
      ],
      "source": [
        "titles[:10] # take a peek"
      ]
    },
    {
      "cell_type": "code",
      "execution_count": null,
      "metadata": {
        "id": "1srffCxD_kXy"
      },
      "outputs": [],
      "source": [
        "# get all authors\n",
        "page = 1\n",
        "authors = []\n",
        "while page != 35:\n",
        "  for x in r.html.find(\"p.author\"):\n",
        "    authors.append(x.text)\n",
        "  page +=1\n"
      ]
    },
    {
      "cell_type": "code",
      "execution_count": null,
      "metadata": {
        "colab": {
          "base_uri": "https://localhost:8080/"
        },
        "id": "2t2QhehZ_yiO",
        "outputId": "30879b5a-44ec-447d-94ce-2af9d2d31a75"
      },
      "outputs": [
        {
          "data": {
            "text/plain": [
              "1020"
            ]
          },
          "execution_count": 20,
          "metadata": {},
          "output_type": "execute_result"
        }
      ],
      "source": [
        "len(authors)"
      ]
    },
    {
      "cell_type": "code",
      "execution_count": null,
      "metadata": {
        "colab": {
          "base_uri": "https://localhost:8080/"
        },
        "id": "z6IKrZnW_9vl",
        "outputId": "e669c582-8da7-4f31-9241-bdc801306186"
      },
      "outputs": [
        {
          "data": {
            "text/plain": [
              "['Colleen Hoover',\n",
              " 'Colleen Hoover',\n",
              " 'Colleen Hoover',\n",
              " 'Greta Thunberg',\n",
              " 'Johanna Basford',\n",
              " 'Colleen Hoover',\n",
              " 'George R.R. Martin',\n",
              " 'Shehan Karunatilaka',\n",
              " 'Bessel Van Der Kolk',\n",
              " 'Tom Simons']"
            ]
          },
          "execution_count": 22,
          "metadata": {},
          "output_type": "execute_result"
        }
      ],
      "source": [
        "authors[:10]"
      ]
    },
    {
      "cell_type": "code",
      "execution_count": null,
      "metadata": {
        "id": "oqyGsayaAAVz"
      },
      "outputs": [],
      "source": [
        "# get the prices\n",
        "page = 1\n",
        "prices = []\n",
        "while page != 35:\n",
        "  for x in r.html.find(\"p.price\"):\n",
        "    prices.append(x.text)\n",
        "  page +=1\n"
      ]
    },
    {
      "cell_type": "code",
      "execution_count": null,
      "metadata": {
        "colab": {
          "base_uri": "https://localhost:8080/"
        },
        "id": "GluNxOB2AM5r",
        "outputId": "f1ed8b56-0c0c-449c-955a-800c197e7f10"
      },
      "outputs": [
        {
          "data": {
            "text/plain": [
              "1020"
            ]
          },
          "execution_count": 24,
          "metadata": {},
          "output_type": "execute_result"
        }
      ],
      "source": [
        "len(prices)"
      ]
    },
    {
      "cell_type": "code",
      "execution_count": null,
      "metadata": {
        "colab": {
          "base_uri": "https://localhost:8080/"
        },
        "id": "lbUDjVQeAPJ5",
        "outputId": "5e54e847-e0ba-4630-ac66-f24550c70093"
      },
      "outputs": [
        {
          "data": {
            "text/plain": [
              "['US$9.24 \\xa0US$11.10',\n",
              " 'US$14.84',\n",
              " 'US$16.42 \\xa0US$16.73',\n",
              " 'US$31.60',\n",
              " 'US$17.49',\n",
              " 'US$8.24 \\xa0US$10.03',\n",
              " 'US$13.54',\n",
              " 'US$17.61 \\xa0US$18.96',\n",
              " 'US$14.26 \\xa0US$14.50',\n",
              " 'US$12.94 \\xa0US$16.73']"
            ]
          },
          "execution_count": 25,
          "metadata": {},
          "output_type": "execute_result"
        }
      ],
      "source": [
        "prices[:10]"
      ]
    },
    {
      "cell_type": "code",
      "execution_count": null,
      "metadata": {
        "id": "IRnjcFfsAqPE"
      },
      "outputs": [],
      "source": [
        "# We get the ratings \n",
        "page = 1\n",
        "stars = []\n",
        "while page != 35:\n",
        "  for x in r.html.find(\"div.stars\"):\n",
        "    result = x.find(\"span.star.full-star\")\n",
        "    stars.append(len(result))\n",
        "  page +=1\n"
      ]
    },
    {
      "cell_type": "code",
      "execution_count": null,
      "metadata": {
        "colab": {
          "base_uri": "https://localhost:8080/"
        },
        "id": "14oaZGw7A5sH",
        "outputId": "5110cf3b-766b-4ac2-8561-cad1415f8e37"
      },
      "outputs": [
        {
          "data": {
            "text/plain": [
              "748"
            ]
          },
          "execution_count": 112,
          "metadata": {},
          "output_type": "execute_result"
        }
      ],
      "source": [
        "len(stars)"
      ]
    },
    {
      "cell_type": "code",
      "execution_count": null,
      "metadata": {
        "colab": {
          "base_uri": "https://localhost:8080/"
        },
        "id": "m3caxJMoA8zv",
        "outputId": "c874bc21-bfd7-4f79-8086-2672cdb634d0"
      },
      "outputs": [
        {
          "data": {
            "text/plain": [
              "3"
            ]
          },
          "execution_count": 110,
          "metadata": {},
          "output_type": "execute_result"
        }
      ],
      "source": [
        "stars[34]"
      ]
    },
    {
      "cell_type": "code",
      "execution_count": null,
      "metadata": {
        "id": "5WD5NCyPPKGj"
      },
      "outputs": [],
      "source": [
        "# We get the book formats\n",
        "page = 1\n",
        "formats = []\n",
        "while page != 35:\n",
        "  for x in r.html.find(\"p.format\"):\n",
        "    formats.append(x.text)\n",
        "  page +=1"
      ]
    },
    {
      "cell_type": "code",
      "execution_count": null,
      "metadata": {
        "colab": {
          "base_uri": "https://localhost:8080/"
        },
        "id": "5NPhmvsnPzDB",
        "outputId": "5d41e3e6-f4ff-4704-b462-fba6de40fdd5"
      },
      "outputs": [
        {
          "data": {
            "text/plain": [
              "1020"
            ]
          },
          "execution_count": 116,
          "metadata": {},
          "output_type": "execute_result"
        }
      ],
      "source": [
        "len(formats)"
      ]
    },
    {
      "cell_type": "code",
      "execution_count": null,
      "metadata": {
        "colab": {
          "base_uri": "https://localhost:8080/"
        },
        "id": "by6x3jU9P5rG",
        "outputId": "e34df6b8-543f-4a83-a07f-33b1ec223da0"
      },
      "outputs": [
        {
          "data": {
            "text/plain": [
              "['Paperback',\n",
              " 'Paperback',\n",
              " 'Hardback',\n",
              " 'Hardback',\n",
              " 'Paperback',\n",
              " 'Paperback',\n",
              " 'Paperback',\n",
              " 'Hardback',\n",
              " 'Paperback',\n",
              " 'Hardback']"
            ]
          },
          "execution_count": 118,
          "metadata": {},
          "output_type": "execute_result"
        }
      ],
      "source": [
        "formats[:10]"
      ]
    },
    {
      "cell_type": "markdown",
      "metadata": {
        "id": "rAZksy9X-2gL"
      },
      "source": [
        "We have successfull scraped our data, but it is not clean yet. We need to clean and save it for our analysis work later. To do that, we need to use `pandas`. We will create a dataframe our our data. "
      ]
    },
    {
      "cell_type": "code",
      "execution_count": null,
      "metadata": {
        "id": "oGYOsswH9fXM"
      },
      "outputs": [],
      "source": [
        "# We put it into a DataFrame\n",
        "import pandas as pd\n",
        "\n",
        "stars = pd.Series(stars)\n",
        "\n",
        "df = pd.DataFrame(list(zip(titles, authors, prices, formats)), \n",
        "                columns=[\"titles\", \"authors\", \"prices\", \"formats\"])"
      ]
    },
    {
      "cell_type": "code",
      "execution_count": null,
      "metadata": {
        "colab": {
          "base_uri": "https://localhost:8080/"
        },
        "id": "Co-a5nGFRzgX",
        "outputId": "9f4f0347-8f06-4f59-c0d6-c395d4f47c32"
      },
      "outputs": [
        {
          "data": {
            "text/plain": [
              "(1020, 4)"
            ]
          },
          "execution_count": 129,
          "metadata": {},
          "output_type": "execute_result"
        }
      ],
      "source": [
        "df.shape"
      ]
    },
    {
      "cell_type": "code",
      "execution_count": null,
      "metadata": {
        "id": "_jAlCgFNSBmB"
      },
      "outputs": [],
      "source": [
        "df[\"rating\"] = stars # to add the stars"
      ]
    },
    {
      "cell_type": "code",
      "execution_count": null,
      "metadata": {
        "colab": {
          "base_uri": "https://localhost:8080/"
        },
        "id": "z48zraPHSPUi",
        "outputId": "b0b84297-28e1-4cb2-a445-e820a7eb0f01"
      },
      "outputs": [
        {
          "data": {
            "text/plain": [
              "(1020, 5)"
            ]
          },
          "execution_count": 170,
          "metadata": {},
          "output_type": "execute_result"
        }
      ],
      "source": [
        "df.shape"
      ]
    },
    {
      "cell_type": "code",
      "execution_count": null,
      "metadata": {
        "colab": {
          "base_uri": "https://localhost:8080/",
          "height": 206
        },
        "id": "1P88rgR2SBtw",
        "outputId": "c7623f9b-f31c-4664-861e-4e48000d10e9"
      },
      "outputs": [
        {
          "data": {
            "text/html": [
              "\n",
              "  <div id=\"df-520820b0-d54c-4b99-9c94-9e4cc3bc9e5f\">\n",
              "    <div class=\"colab-df-container\">\n",
              "      <div>\n",
              "<style scoped>\n",
              "    .dataframe tbody tr th:only-of-type {\n",
              "        vertical-align: middle;\n",
              "    }\n",
              "\n",
              "    .dataframe tbody tr th {\n",
              "        vertical-align: top;\n",
              "    }\n",
              "\n",
              "    .dataframe thead th {\n",
              "        text-align: right;\n",
              "    }\n",
              "</style>\n",
              "<table border=\"1\" class=\"dataframe\">\n",
              "  <thead>\n",
              "    <tr style=\"text-align: right;\">\n",
              "      <th></th>\n",
              "      <th>titles</th>\n",
              "      <th>authors</th>\n",
              "      <th>prices</th>\n",
              "      <th>formats</th>\n",
              "      <th>rating</th>\n",
              "    </tr>\n",
              "  </thead>\n",
              "  <tbody>\n",
              "    <tr>\n",
              "      <th>0</th>\n",
              "      <td>It Ends With Us: The most heartbreaking novel ...</td>\n",
              "      <td>Colleen Hoover</td>\n",
              "      <td>US$9.24  US$11.10</td>\n",
              "      <td>Paperback</td>\n",
              "      <td>4.0</td>\n",
              "    </tr>\n",
              "    <tr>\n",
              "      <th>1</th>\n",
              "      <td>It Starts with Us</td>\n",
              "      <td>Colleen Hoover</td>\n",
              "      <td>US$14.84</td>\n",
              "      <td>Paperback</td>\n",
              "      <td>5.0</td>\n",
              "    </tr>\n",
              "    <tr>\n",
              "      <th>2</th>\n",
              "      <td>It Starts with Us</td>\n",
              "      <td>Colleen Hoover</td>\n",
              "      <td>US$16.42  US$16.73</td>\n",
              "      <td>Hardback</td>\n",
              "      <td>5.0</td>\n",
              "    </tr>\n",
              "    <tr>\n",
              "      <th>3</th>\n",
              "      <td>The Climate Book</td>\n",
              "      <td>Greta Thunberg</td>\n",
              "      <td>US$31.60</td>\n",
              "      <td>Hardback</td>\n",
              "      <td>5.0</td>\n",
              "    </tr>\n",
              "    <tr>\n",
              "      <th>4</th>\n",
              "      <td>Rooms of Wonder</td>\n",
              "      <td>Johanna Basford</td>\n",
              "      <td>US$17.49</td>\n",
              "      <td>Paperback</td>\n",
              "      <td>4.0</td>\n",
              "    </tr>\n",
              "  </tbody>\n",
              "</table>\n",
              "</div>\n",
              "      <button class=\"colab-df-convert\" onclick=\"convertToInteractive('df-520820b0-d54c-4b99-9c94-9e4cc3bc9e5f')\"\n",
              "              title=\"Convert this dataframe to an interactive table.\"\n",
              "              style=\"display:none;\">\n",
              "        \n",
              "  <svg xmlns=\"http://www.w3.org/2000/svg\" height=\"24px\"viewBox=\"0 0 24 24\"\n",
              "       width=\"24px\">\n",
              "    <path d=\"M0 0h24v24H0V0z\" fill=\"none\"/>\n",
              "    <path d=\"M18.56 5.44l.94 2.06.94-2.06 2.06-.94-2.06-.94-.94-2.06-.94 2.06-2.06.94zm-11 1L8.5 8.5l.94-2.06 2.06-.94-2.06-.94L8.5 2.5l-.94 2.06-2.06.94zm10 10l.94 2.06.94-2.06 2.06-.94-2.06-.94-.94-2.06-.94 2.06-2.06.94z\"/><path d=\"M17.41 7.96l-1.37-1.37c-.4-.4-.92-.59-1.43-.59-.52 0-1.04.2-1.43.59L10.3 9.45l-7.72 7.72c-.78.78-.78 2.05 0 2.83L4 21.41c.39.39.9.59 1.41.59.51 0 1.02-.2 1.41-.59l7.78-7.78 2.81-2.81c.8-.78.8-2.07 0-2.86zM5.41 20L4 18.59l7.72-7.72 1.47 1.35L5.41 20z\"/>\n",
              "  </svg>\n",
              "      </button>\n",
              "      \n",
              "  <style>\n",
              "    .colab-df-container {\n",
              "      display:flex;\n",
              "      flex-wrap:wrap;\n",
              "      gap: 12px;\n",
              "    }\n",
              "\n",
              "    .colab-df-convert {\n",
              "      background-color: #E8F0FE;\n",
              "      border: none;\n",
              "      border-radius: 50%;\n",
              "      cursor: pointer;\n",
              "      display: none;\n",
              "      fill: #1967D2;\n",
              "      height: 32px;\n",
              "      padding: 0 0 0 0;\n",
              "      width: 32px;\n",
              "    }\n",
              "\n",
              "    .colab-df-convert:hover {\n",
              "      background-color: #E2EBFA;\n",
              "      box-shadow: 0px 1px 2px rgba(60, 64, 67, 0.3), 0px 1px 3px 1px rgba(60, 64, 67, 0.15);\n",
              "      fill: #174EA6;\n",
              "    }\n",
              "\n",
              "    [theme=dark] .colab-df-convert {\n",
              "      background-color: #3B4455;\n",
              "      fill: #D2E3FC;\n",
              "    }\n",
              "\n",
              "    [theme=dark] .colab-df-convert:hover {\n",
              "      background-color: #434B5C;\n",
              "      box-shadow: 0px 1px 3px 1px rgba(0, 0, 0, 0.15);\n",
              "      filter: drop-shadow(0px 1px 2px rgba(0, 0, 0, 0.3));\n",
              "      fill: #FFFFFF;\n",
              "    }\n",
              "  </style>\n",
              "\n",
              "      <script>\n",
              "        const buttonEl =\n",
              "          document.querySelector('#df-520820b0-d54c-4b99-9c94-9e4cc3bc9e5f button.colab-df-convert');\n",
              "        buttonEl.style.display =\n",
              "          google.colab.kernel.accessAllowed ? 'block' : 'none';\n",
              "\n",
              "        async function convertToInteractive(key) {\n",
              "          const element = document.querySelector('#df-520820b0-d54c-4b99-9c94-9e4cc3bc9e5f');\n",
              "          const dataTable =\n",
              "            await google.colab.kernel.invokeFunction('convertToInteractive',\n",
              "                                                     [key], {});\n",
              "          if (!dataTable) return;\n",
              "\n",
              "          const docLinkHtml = 'Like what you see? Visit the ' +\n",
              "            '<a target=\"_blank\" href=https://colab.research.google.com/notebooks/data_table.ipynb>data table notebook</a>'\n",
              "            + ' to learn more about interactive tables.';\n",
              "          element.innerHTML = '';\n",
              "          dataTable['output_type'] = 'display_data';\n",
              "          await google.colab.output.renderOutput(dataTable, element);\n",
              "          const docLink = document.createElement('div');\n",
              "          docLink.innerHTML = docLinkHtml;\n",
              "          element.appendChild(docLink);\n",
              "        }\n",
              "      </script>\n",
              "    </div>\n",
              "  </div>\n",
              "  "
            ],
            "text/plain": [
              "                                              titles          authors  \\\n",
              "0  It Ends With Us: The most heartbreaking novel ...   Colleen Hoover   \n",
              "1                                  It Starts with Us   Colleen Hoover   \n",
              "2                                  It Starts with Us   Colleen Hoover   \n",
              "3                                   The Climate Book   Greta Thunberg   \n",
              "4                                    Rooms of Wonder  Johanna Basford   \n",
              "\n",
              "               prices    formats  rating  \n",
              "0   US$9.24  US$11.10  Paperback     4.0  \n",
              "1            US$14.84  Paperback     5.0  \n",
              "2  US$16.42  US$16.73   Hardback     5.0  \n",
              "3            US$31.60   Hardback     5.0  \n",
              "4            US$17.49  Paperback     4.0  "
            ]
          },
          "execution_count": 171,
          "metadata": {},
          "output_type": "execute_result"
        }
      ],
      "source": [
        "df.head() # check our data "
      ]
    },
    {
      "cell_type": "code",
      "execution_count": null,
      "metadata": {
        "colab": {
          "base_uri": "https://localhost:8080/",
          "height": 206
        },
        "id": "TJGG-GT_SLXv",
        "outputId": "3993d924-e2ea-4847-9ec2-5d9a19d6dfe5"
      },
      "outputs": [
        {
          "data": {
            "text/html": [
              "\n",
              "  <div id=\"df-f04f4199-aede-4dea-bbdc-8a7d4815cc5e\">\n",
              "    <div class=\"colab-df-container\">\n",
              "      <div>\n",
              "<style scoped>\n",
              "    .dataframe tbody tr th:only-of-type {\n",
              "        vertical-align: middle;\n",
              "    }\n",
              "\n",
              "    .dataframe tbody tr th {\n",
              "        vertical-align: top;\n",
              "    }\n",
              "\n",
              "    .dataframe thead th {\n",
              "        text-align: right;\n",
              "    }\n",
              "</style>\n",
              "<table border=\"1\" class=\"dataframe\">\n",
              "  <thead>\n",
              "    <tr style=\"text-align: right;\">\n",
              "      <th></th>\n",
              "      <th>titles</th>\n",
              "      <th>authors</th>\n",
              "      <th>prices</th>\n",
              "      <th>formats</th>\n",
              "      <th>rating</th>\n",
              "    </tr>\n",
              "  </thead>\n",
              "  <tbody>\n",
              "    <tr>\n",
              "      <th>1015</th>\n",
              "      <td>Twisted Love</td>\n",
              "      <td>Ana Huang</td>\n",
              "      <td>US$10.56</td>\n",
              "      <td>Paperback</td>\n",
              "      <td>NaN</td>\n",
              "    </tr>\n",
              "    <tr>\n",
              "      <th>1016</th>\n",
              "      <td>Chainsaw Man, Vol. 1</td>\n",
              "      <td>Tatsuki Fujimoto</td>\n",
              "      <td>US$8.76  US$9.99</td>\n",
              "      <td>Paperback</td>\n",
              "      <td>NaN</td>\n",
              "    </tr>\n",
              "    <tr>\n",
              "      <th>1017</th>\n",
              "      <td>Spare</td>\n",
              "      <td>Prince Harry</td>\n",
              "      <td>US$27.97  US$31.25</td>\n",
              "      <td>Hardback</td>\n",
              "      <td>NaN</td>\n",
              "    </tr>\n",
              "    <tr>\n",
              "      <th>1018</th>\n",
              "      <td>The Perfect Loaf</td>\n",
              "      <td>Maurizio Leo</td>\n",
              "      <td>US$35.80  US$40.00</td>\n",
              "      <td>Hardback</td>\n",
              "      <td>NaN</td>\n",
              "    </tr>\n",
              "    <tr>\n",
              "      <th>1019</th>\n",
              "      <td>The Husky and His White Cat Shizun: Erha He Ta...</td>\n",
              "      <td>Rou Bao Bu Chi Rou</td>\n",
              "      <td>US$17.89  US$19.99</td>\n",
              "      <td>Paperback</td>\n",
              "      <td>NaN</td>\n",
              "    </tr>\n",
              "  </tbody>\n",
              "</table>\n",
              "</div>\n",
              "      <button class=\"colab-df-convert\" onclick=\"convertToInteractive('df-f04f4199-aede-4dea-bbdc-8a7d4815cc5e')\"\n",
              "              title=\"Convert this dataframe to an interactive table.\"\n",
              "              style=\"display:none;\">\n",
              "        \n",
              "  <svg xmlns=\"http://www.w3.org/2000/svg\" height=\"24px\"viewBox=\"0 0 24 24\"\n",
              "       width=\"24px\">\n",
              "    <path d=\"M0 0h24v24H0V0z\" fill=\"none\"/>\n",
              "    <path d=\"M18.56 5.44l.94 2.06.94-2.06 2.06-.94-2.06-.94-.94-2.06-.94 2.06-2.06.94zm-11 1L8.5 8.5l.94-2.06 2.06-.94-2.06-.94L8.5 2.5l-.94 2.06-2.06.94zm10 10l.94 2.06.94-2.06 2.06-.94-2.06-.94-.94-2.06-.94 2.06-2.06.94z\"/><path d=\"M17.41 7.96l-1.37-1.37c-.4-.4-.92-.59-1.43-.59-.52 0-1.04.2-1.43.59L10.3 9.45l-7.72 7.72c-.78.78-.78 2.05 0 2.83L4 21.41c.39.39.9.59 1.41.59.51 0 1.02-.2 1.41-.59l7.78-7.78 2.81-2.81c.8-.78.8-2.07 0-2.86zM5.41 20L4 18.59l7.72-7.72 1.47 1.35L5.41 20z\"/>\n",
              "  </svg>\n",
              "      </button>\n",
              "      \n",
              "  <style>\n",
              "    .colab-df-container {\n",
              "      display:flex;\n",
              "      flex-wrap:wrap;\n",
              "      gap: 12px;\n",
              "    }\n",
              "\n",
              "    .colab-df-convert {\n",
              "      background-color: #E8F0FE;\n",
              "      border: none;\n",
              "      border-radius: 50%;\n",
              "      cursor: pointer;\n",
              "      display: none;\n",
              "      fill: #1967D2;\n",
              "      height: 32px;\n",
              "      padding: 0 0 0 0;\n",
              "      width: 32px;\n",
              "    }\n",
              "\n",
              "    .colab-df-convert:hover {\n",
              "      background-color: #E2EBFA;\n",
              "      box-shadow: 0px 1px 2px rgba(60, 64, 67, 0.3), 0px 1px 3px 1px rgba(60, 64, 67, 0.15);\n",
              "      fill: #174EA6;\n",
              "    }\n",
              "\n",
              "    [theme=dark] .colab-df-convert {\n",
              "      background-color: #3B4455;\n",
              "      fill: #D2E3FC;\n",
              "    }\n",
              "\n",
              "    [theme=dark] .colab-df-convert:hover {\n",
              "      background-color: #434B5C;\n",
              "      box-shadow: 0px 1px 3px 1px rgba(0, 0, 0, 0.15);\n",
              "      filter: drop-shadow(0px 1px 2px rgba(0, 0, 0, 0.3));\n",
              "      fill: #FFFFFF;\n",
              "    }\n",
              "  </style>\n",
              "\n",
              "      <script>\n",
              "        const buttonEl =\n",
              "          document.querySelector('#df-f04f4199-aede-4dea-bbdc-8a7d4815cc5e button.colab-df-convert');\n",
              "        buttonEl.style.display =\n",
              "          google.colab.kernel.accessAllowed ? 'block' : 'none';\n",
              "\n",
              "        async function convertToInteractive(key) {\n",
              "          const element = document.querySelector('#df-f04f4199-aede-4dea-bbdc-8a7d4815cc5e');\n",
              "          const dataTable =\n",
              "            await google.colab.kernel.invokeFunction('convertToInteractive',\n",
              "                                                     [key], {});\n",
              "          if (!dataTable) return;\n",
              "\n",
              "          const docLinkHtml = 'Like what you see? Visit the ' +\n",
              "            '<a target=\"_blank\" href=https://colab.research.google.com/notebooks/data_table.ipynb>data table notebook</a>'\n",
              "            + ' to learn more about interactive tables.';\n",
              "          element.innerHTML = '';\n",
              "          dataTable['output_type'] = 'display_data';\n",
              "          await google.colab.output.renderOutput(dataTable, element);\n",
              "          const docLink = document.createElement('div');\n",
              "          docLink.innerHTML = docLinkHtml;\n",
              "          element.appendChild(docLink);\n",
              "        }\n",
              "      </script>\n",
              "    </div>\n",
              "  </div>\n",
              "  "
            ],
            "text/plain": [
              "                                                 titles             authors  \\\n",
              "1015                                       Twisted Love           Ana Huang   \n",
              "1016                               Chainsaw Man, Vol. 1    Tatsuki Fujimoto   \n",
              "1017                                              Spare        Prince Harry   \n",
              "1018                                   The Perfect Loaf        Maurizio Leo   \n",
              "1019  The Husky and His White Cat Shizun: Erha He Ta...  Rou Bao Bu Chi Rou   \n",
              "\n",
              "                  prices    formats  rating  \n",
              "1015            US$10.56  Paperback     NaN  \n",
              "1016    US$8.76  US$9.99  Paperback     NaN  \n",
              "1017  US$27.97  US$31.25   Hardback     NaN  \n",
              "1018  US$35.80  US$40.00   Hardback     NaN  \n",
              "1019  US$17.89  US$19.99  Paperback     NaN  "
            ]
          },
          "execution_count": 172,
          "metadata": {},
          "output_type": "execute_result"
        }
      ],
      "source": [
        "df.tail() # check the last values"
      ]
    },
    {
      "cell_type": "markdown",
      "metadata": {
        "id": "v108ylOoAGHh"
      },
      "source": [
        "You will notice that we have some missing values in our data. We need to deal with this later. There some many of dealing with missing values. You can either drop them or treat them. Since, droping them for our small dataset is not an option, we will treat them. There many ways to do this too. We can fill the values with the mean or median of the variable in question or replace them with new values(non-numeric)"
      ]
    },
    {
      "cell_type": "markdown",
      "metadata": {
        "id": "pQgwVA1lSb9I"
      },
      "source": [
        "### Cleaning the data"
      ]
    },
    {
      "cell_type": "code",
      "execution_count": null,
      "metadata": {
        "colab": {
          "base_uri": "https://localhost:8080/"
        },
        "id": "eOgUElbsSez4",
        "outputId": "017edc1e-95f4-497a-fc9b-93c8cf508a3a"
      },
      "outputs": [
        {
          "name": "stderr",
          "output_type": "stream",
          "text": [
            "/usr/local/lib/python3.7/dist-packages/ipykernel_launcher.py:3: FutureWarning: The default value of regex will change from True to False in a future version.\n",
            "  This is separate from the ipykernel package so we can avoid doing imports until\n"
          ]
        }
      ],
      "source": [
        "# We clean the price values\n",
        "\n",
        "# We remove the strike-through price.\n",
        "df[\"prices\"] = df.prices.str.replace(\"\\xa0*\", \"\")"
      ]
    },
    {
      "cell_type": "markdown",
      "metadata": {
        "id": "JcCC1lb7DqGT"
      },
      "source": [
        "In this code, we are using the `str` methods `replace` method to remove the unwanted characters in the data. You will also realize that there are 2 prices in our data. We have the new data first and then the old data in some rows. We are only interested in the new price which comes first in the price column.\n",
        "\n",
        "To get the new price, we use `pandas`'s `apply` method to apply a function that a function that splits the values by the whitepsace and then extract the first value which is our new price. "
      ]
    },
    {
      "cell_type": "code",
      "execution_count": 2,
      "metadata": {
        "id": "NgMTvEBHU6VG"
      },
      "outputs": [],
      "source": [
        "# To get the current price value\n",
        "df[\"prices\"] = df[\"prices\"].apply(lambda x: x.split(\" \")[0]) "
      ]
    },
    {
      "cell_type": "code",
      "execution_count": null,
      "metadata": {
        "colab": {
          "base_uri": "https://localhost:8080/",
          "height": 206
        },
        "id": "Flft3LxYTv5l",
        "outputId": "4d0c04ca-825f-4b53-dd22-643bbdfaf4c1"
      },
      "outputs": [
        {
          "data": {
            "text/html": [
              "\n",
              "  <div id=\"df-69e541bd-b14f-4106-ac35-d590430e16d4\">\n",
              "    <div class=\"colab-df-container\">\n",
              "      <div>\n",
              "<style scoped>\n",
              "    .dataframe tbody tr th:only-of-type {\n",
              "        vertical-align: middle;\n",
              "    }\n",
              "\n",
              "    .dataframe tbody tr th {\n",
              "        vertical-align: top;\n",
              "    }\n",
              "\n",
              "    .dataframe thead th {\n",
              "        text-align: right;\n",
              "    }\n",
              "</style>\n",
              "<table border=\"1\" class=\"dataframe\">\n",
              "  <thead>\n",
              "    <tr style=\"text-align: right;\">\n",
              "      <th></th>\n",
              "      <th>titles</th>\n",
              "      <th>authors</th>\n",
              "      <th>prices</th>\n",
              "      <th>formats</th>\n",
              "      <th>rating</th>\n",
              "    </tr>\n",
              "  </thead>\n",
              "  <tbody>\n",
              "    <tr>\n",
              "      <th>0</th>\n",
              "      <td>It Ends With Us: The most heartbreaking novel ...</td>\n",
              "      <td>Colleen Hoover</td>\n",
              "      <td>US$9.24</td>\n",
              "      <td>Paperback</td>\n",
              "      <td>4.0</td>\n",
              "    </tr>\n",
              "    <tr>\n",
              "      <th>1</th>\n",
              "      <td>It Starts with Us</td>\n",
              "      <td>Colleen Hoover</td>\n",
              "      <td>US$14.84</td>\n",
              "      <td>Paperback</td>\n",
              "      <td>5.0</td>\n",
              "    </tr>\n",
              "    <tr>\n",
              "      <th>2</th>\n",
              "      <td>It Starts with Us</td>\n",
              "      <td>Colleen Hoover</td>\n",
              "      <td>US$16.42</td>\n",
              "      <td>Hardback</td>\n",
              "      <td>5.0</td>\n",
              "    </tr>\n",
              "    <tr>\n",
              "      <th>3</th>\n",
              "      <td>The Climate Book</td>\n",
              "      <td>Greta Thunberg</td>\n",
              "      <td>US$31.60</td>\n",
              "      <td>Hardback</td>\n",
              "      <td>5.0</td>\n",
              "    </tr>\n",
              "    <tr>\n",
              "      <th>4</th>\n",
              "      <td>Rooms of Wonder</td>\n",
              "      <td>Johanna Basford</td>\n",
              "      <td>US$17.49</td>\n",
              "      <td>Paperback</td>\n",
              "      <td>4.0</td>\n",
              "    </tr>\n",
              "  </tbody>\n",
              "</table>\n",
              "</div>\n",
              "      <button class=\"colab-df-convert\" onclick=\"convertToInteractive('df-69e541bd-b14f-4106-ac35-d590430e16d4')\"\n",
              "              title=\"Convert this dataframe to an interactive table.\"\n",
              "              style=\"display:none;\">\n",
              "        \n",
              "  <svg xmlns=\"http://www.w3.org/2000/svg\" height=\"24px\"viewBox=\"0 0 24 24\"\n",
              "       width=\"24px\">\n",
              "    <path d=\"M0 0h24v24H0V0z\" fill=\"none\"/>\n",
              "    <path d=\"M18.56 5.44l.94 2.06.94-2.06 2.06-.94-2.06-.94-.94-2.06-.94 2.06-2.06.94zm-11 1L8.5 8.5l.94-2.06 2.06-.94-2.06-.94L8.5 2.5l-.94 2.06-2.06.94zm10 10l.94 2.06.94-2.06 2.06-.94-2.06-.94-.94-2.06-.94 2.06-2.06.94z\"/><path d=\"M17.41 7.96l-1.37-1.37c-.4-.4-.92-.59-1.43-.59-.52 0-1.04.2-1.43.59L10.3 9.45l-7.72 7.72c-.78.78-.78 2.05 0 2.83L4 21.41c.39.39.9.59 1.41.59.51 0 1.02-.2 1.41-.59l7.78-7.78 2.81-2.81c.8-.78.8-2.07 0-2.86zM5.41 20L4 18.59l7.72-7.72 1.47 1.35L5.41 20z\"/>\n",
              "  </svg>\n",
              "      </button>\n",
              "      \n",
              "  <style>\n",
              "    .colab-df-container {\n",
              "      display:flex;\n",
              "      flex-wrap:wrap;\n",
              "      gap: 12px;\n",
              "    }\n",
              "\n",
              "    .colab-df-convert {\n",
              "      background-color: #E8F0FE;\n",
              "      border: none;\n",
              "      border-radius: 50%;\n",
              "      cursor: pointer;\n",
              "      display: none;\n",
              "      fill: #1967D2;\n",
              "      height: 32px;\n",
              "      padding: 0 0 0 0;\n",
              "      width: 32px;\n",
              "    }\n",
              "\n",
              "    .colab-df-convert:hover {\n",
              "      background-color: #E2EBFA;\n",
              "      box-shadow: 0px 1px 2px rgba(60, 64, 67, 0.3), 0px 1px 3px 1px rgba(60, 64, 67, 0.15);\n",
              "      fill: #174EA6;\n",
              "    }\n",
              "\n",
              "    [theme=dark] .colab-df-convert {\n",
              "      background-color: #3B4455;\n",
              "      fill: #D2E3FC;\n",
              "    }\n",
              "\n",
              "    [theme=dark] .colab-df-convert:hover {\n",
              "      background-color: #434B5C;\n",
              "      box-shadow: 0px 1px 3px 1px rgba(0, 0, 0, 0.15);\n",
              "      filter: drop-shadow(0px 1px 2px rgba(0, 0, 0, 0.3));\n",
              "      fill: #FFFFFF;\n",
              "    }\n",
              "  </style>\n",
              "\n",
              "      <script>\n",
              "        const buttonEl =\n",
              "          document.querySelector('#df-69e541bd-b14f-4106-ac35-d590430e16d4 button.colab-df-convert');\n",
              "        buttonEl.style.display =\n",
              "          google.colab.kernel.accessAllowed ? 'block' : 'none';\n",
              "\n",
              "        async function convertToInteractive(key) {\n",
              "          const element = document.querySelector('#df-69e541bd-b14f-4106-ac35-d590430e16d4');\n",
              "          const dataTable =\n",
              "            await google.colab.kernel.invokeFunction('convertToInteractive',\n",
              "                                                     [key], {});\n",
              "          if (!dataTable) return;\n",
              "\n",
              "          const docLinkHtml = 'Like what you see? Visit the ' +\n",
              "            '<a target=\"_blank\" href=https://colab.research.google.com/notebooks/data_table.ipynb>data table notebook</a>'\n",
              "            + ' to learn more about interactive tables.';\n",
              "          element.innerHTML = '';\n",
              "          dataTable['output_type'] = 'display_data';\n",
              "          await google.colab.output.renderOutput(dataTable, element);\n",
              "          const docLink = document.createElement('div');\n",
              "          docLink.innerHTML = docLinkHtml;\n",
              "          element.appendChild(docLink);\n",
              "        }\n",
              "      </script>\n",
              "    </div>\n",
              "  </div>\n",
              "  "
            ],
            "text/plain": [
              "                                              titles          authors  \\\n",
              "0  It Ends With Us: The most heartbreaking novel ...   Colleen Hoover   \n",
              "1                                  It Starts with Us   Colleen Hoover   \n",
              "2                                  It Starts with Us   Colleen Hoover   \n",
              "3                                   The Climate Book   Greta Thunberg   \n",
              "4                                    Rooms of Wonder  Johanna Basford   \n",
              "\n",
              "     prices    formats  rating  \n",
              "0   US$9.24  Paperback     4.0  \n",
              "1  US$14.84  Paperback     5.0  \n",
              "2  US$16.42   Hardback     5.0  \n",
              "3  US$31.60   Hardback     5.0  \n",
              "4  US$17.49  Paperback     4.0  "
            ]
          },
          "execution_count": 186,
          "metadata": {},
          "output_type": "execute_result"
        }
      ],
      "source": [
        "df.head()"
      ]
    },
    {
      "cell_type": "markdown",
      "metadata": {
        "id": "VmFk58j2GPnq"
      },
      "source": [
        "If we check our data now, we will see that the price column is almost clean. We can however see that the `US$` characters are still in our values. We don't want that for a column that should be a decimal or floating point value. So, we are going to remove then and then convert our prices to floating point values. Fortunately, this is easy with `pandas`. We just need to replace these characters with nothing."
      ]
    },
    {
      "cell_type": "code",
      "execution_count": null,
      "metadata": {
        "id": "0IWBzCj7X5X2"
      },
      "outputs": [],
      "source": [
        "# To remove the `US` abbreviation\n",
        "df[\"prices\"] = df[\"prices\"].str.replace(\"US\", \"\")\n",
        "\n",
        "\n",
        "# To remove dollar sign\n",
        "df[\"prices\"] = df[\"prices\"].str.replace(\"$\", \"\")\n",
        "df.head()"
      ]
    },
    {
      "cell_type": "markdown",
      "metadata": {
        "id": "Pgcm2i3HH1mL"
      },
      "source": [
        "Just like that and we have a clean price column but somethings else is missing. When we check the data types of our dataframe, we will realize that price is still a string type. We know that shouldn't be the case for a numeric column. We just need to convert this data type from `string` to a `floating point` value."
      ]
    },
    {
      "cell_type": "code",
      "execution_count": null,
      "metadata": {
        "colab": {
          "base_uri": "https://localhost:8080/"
        },
        "id": "A040dqeySfFU",
        "outputId": "815ca5ae-9736-4898-91ac-351ee2be0bea"
      },
      "outputs": [
        {
          "name": "stdout",
          "output_type": "stream",
          "text": [
            "<class 'pandas.core.frame.DataFrame'>\n",
            "RangeIndex: 1020 entries, 0 to 1019\n",
            "Data columns (total 5 columns):\n",
            " #   Column   Non-Null Count  Dtype  \n",
            "---  ------   --------------  -----  \n",
            " 0   titles   1020 non-null   object \n",
            " 1   authors  1020 non-null   object \n",
            " 2   prices   1020 non-null   object \n",
            " 3   formats  1020 non-null   object \n",
            " 4   rating   748 non-null    float64\n",
            "dtypes: float64(1), object(4)\n",
            "memory usage: 40.0+ KB\n"
          ]
        }
      ],
      "source": [
        "df.info()"
      ]
    },
    {
      "cell_type": "code",
      "execution_count": null,
      "metadata": {
        "id": "rWiET6ihY7hT"
      },
      "outputs": [],
      "source": [
        "# To convert prices to float type\n",
        "df[\"prices\"] = df.prices.astype(\"float\")\n",
        "df.info()"
      ]
    },
    {
      "cell_type": "markdown",
      "metadata": {
        "id": "LgUvNaQ5Ky3t"
      },
      "source": [
        "We have reached the point where we will deal with our missing values in the rating column. Let's check to see how many missing values we have. We can see that we have about 272 row with missing values. Since, our data is small, we can't drop it, so we will fill them with the average of the column. If we recheck our rating column, we will see that we have no missing values now."
      ]
    },
    {
      "cell_type": "code",
      "execution_count": null,
      "metadata": {
        "colab": {
          "base_uri": "https://localhost:8080/"
        },
        "id": "upYCNarIZdPe",
        "outputId": "5ea5b33e-50b2-4c68-c8a7-e88733bf5e86"
      },
      "outputs": [
        {
          "data": {
            "text/plain": [
              "272"
            ]
          },
          "execution_count": 204,
          "metadata": {},
          "output_type": "execute_result"
        }
      ],
      "source": [
        "# We fill Na values in rating\n",
        "df.rating.isna().sum() # 272\n",
        "\n",
        "import numpy as np\n",
        "df[\"rating\"] = df[\"rating\"].fillna(round(np.mean(df.rating), 1))\n",
        "\n",
        "\n",
        "# We recheck for missing values -> 0\n",
        "df.rating.isna().sum() "
      ]
    },
    {
      "cell_type": "markdown",
      "metadata": {
        "id": "uyJQhB4SL9kF"
      },
      "source": [
        "If we check our final that we can see that the data is clean and the columns are of the right types. We can now export our data into csv file for further analysis."
      ]
    },
    {
      "cell_type": "code",
      "execution_count": null,
      "metadata": {
        "colab": {
          "base_uri": "https://localhost:8080/",
          "height": 206
        },
        "id": "nuuL7pdwbQFD",
        "outputId": "5b134950-aae3-4992-b6f8-6aa3e088ad30"
      },
      "outputs": [
        {
          "data": {
            "text/html": [
              "\n",
              "  <div id=\"df-6283b06e-4fa6-45ad-a47d-898c5fb78e0d\">\n",
              "    <div class=\"colab-df-container\">\n",
              "      <div>\n",
              "<style scoped>\n",
              "    .dataframe tbody tr th:only-of-type {\n",
              "        vertical-align: middle;\n",
              "    }\n",
              "\n",
              "    .dataframe tbody tr th {\n",
              "        vertical-align: top;\n",
              "    }\n",
              "\n",
              "    .dataframe thead th {\n",
              "        text-align: right;\n",
              "    }\n",
              "</style>\n",
              "<table border=\"1\" class=\"dataframe\">\n",
              "  <thead>\n",
              "    <tr style=\"text-align: right;\">\n",
              "      <th></th>\n",
              "      <th>titles</th>\n",
              "      <th>authors</th>\n",
              "      <th>prices</th>\n",
              "      <th>formats</th>\n",
              "      <th>rating</th>\n",
              "    </tr>\n",
              "  </thead>\n",
              "  <tbody>\n",
              "    <tr>\n",
              "      <th>0</th>\n",
              "      <td>It Ends With Us: The most heartbreaking novel ...</td>\n",
              "      <td>Colleen Hoover</td>\n",
              "      <td>9.24</td>\n",
              "      <td>Paperback</td>\n",
              "      <td>4.0</td>\n",
              "    </tr>\n",
              "    <tr>\n",
              "      <th>1</th>\n",
              "      <td>It Starts with Us</td>\n",
              "      <td>Colleen Hoover</td>\n",
              "      <td>14.84</td>\n",
              "      <td>Paperback</td>\n",
              "      <td>5.0</td>\n",
              "    </tr>\n",
              "    <tr>\n",
              "      <th>2</th>\n",
              "      <td>It Starts with Us</td>\n",
              "      <td>Colleen Hoover</td>\n",
              "      <td>16.42</td>\n",
              "      <td>Hardback</td>\n",
              "      <td>5.0</td>\n",
              "    </tr>\n",
              "    <tr>\n",
              "      <th>3</th>\n",
              "      <td>The Climate Book</td>\n",
              "      <td>Greta Thunberg</td>\n",
              "      <td>31.60</td>\n",
              "      <td>Hardback</td>\n",
              "      <td>5.0</td>\n",
              "    </tr>\n",
              "    <tr>\n",
              "      <th>4</th>\n",
              "      <td>Rooms of Wonder</td>\n",
              "      <td>Johanna Basford</td>\n",
              "      <td>17.49</td>\n",
              "      <td>Paperback</td>\n",
              "      <td>4.0</td>\n",
              "    </tr>\n",
              "  </tbody>\n",
              "</table>\n",
              "</div>\n",
              "      <button class=\"colab-df-convert\" onclick=\"convertToInteractive('df-6283b06e-4fa6-45ad-a47d-898c5fb78e0d')\"\n",
              "              title=\"Convert this dataframe to an interactive table.\"\n",
              "              style=\"display:none;\">\n",
              "        \n",
              "  <svg xmlns=\"http://www.w3.org/2000/svg\" height=\"24px\"viewBox=\"0 0 24 24\"\n",
              "       width=\"24px\">\n",
              "    <path d=\"M0 0h24v24H0V0z\" fill=\"none\"/>\n",
              "    <path d=\"M18.56 5.44l.94 2.06.94-2.06 2.06-.94-2.06-.94-.94-2.06-.94 2.06-2.06.94zm-11 1L8.5 8.5l.94-2.06 2.06-.94-2.06-.94L8.5 2.5l-.94 2.06-2.06.94zm10 10l.94 2.06.94-2.06 2.06-.94-2.06-.94-.94-2.06-.94 2.06-2.06.94z\"/><path d=\"M17.41 7.96l-1.37-1.37c-.4-.4-.92-.59-1.43-.59-.52 0-1.04.2-1.43.59L10.3 9.45l-7.72 7.72c-.78.78-.78 2.05 0 2.83L4 21.41c.39.39.9.59 1.41.59.51 0 1.02-.2 1.41-.59l7.78-7.78 2.81-2.81c.8-.78.8-2.07 0-2.86zM5.41 20L4 18.59l7.72-7.72 1.47 1.35L5.41 20z\"/>\n",
              "  </svg>\n",
              "      </button>\n",
              "      \n",
              "  <style>\n",
              "    .colab-df-container {\n",
              "      display:flex;\n",
              "      flex-wrap:wrap;\n",
              "      gap: 12px;\n",
              "    }\n",
              "\n",
              "    .colab-df-convert {\n",
              "      background-color: #E8F0FE;\n",
              "      border: none;\n",
              "      border-radius: 50%;\n",
              "      cursor: pointer;\n",
              "      display: none;\n",
              "      fill: #1967D2;\n",
              "      height: 32px;\n",
              "      padding: 0 0 0 0;\n",
              "      width: 32px;\n",
              "    }\n",
              "\n",
              "    .colab-df-convert:hover {\n",
              "      background-color: #E2EBFA;\n",
              "      box-shadow: 0px 1px 2px rgba(60, 64, 67, 0.3), 0px 1px 3px 1px rgba(60, 64, 67, 0.15);\n",
              "      fill: #174EA6;\n",
              "    }\n",
              "\n",
              "    [theme=dark] .colab-df-convert {\n",
              "      background-color: #3B4455;\n",
              "      fill: #D2E3FC;\n",
              "    }\n",
              "\n",
              "    [theme=dark] .colab-df-convert:hover {\n",
              "      background-color: #434B5C;\n",
              "      box-shadow: 0px 1px 3px 1px rgba(0, 0, 0, 0.15);\n",
              "      filter: drop-shadow(0px 1px 2px rgba(0, 0, 0, 0.3));\n",
              "      fill: #FFFFFF;\n",
              "    }\n",
              "  </style>\n",
              "\n",
              "      <script>\n",
              "        const buttonEl =\n",
              "          document.querySelector('#df-6283b06e-4fa6-45ad-a47d-898c5fb78e0d button.colab-df-convert');\n",
              "        buttonEl.style.display =\n",
              "          google.colab.kernel.accessAllowed ? 'block' : 'none';\n",
              "\n",
              "        async function convertToInteractive(key) {\n",
              "          const element = document.querySelector('#df-6283b06e-4fa6-45ad-a47d-898c5fb78e0d');\n",
              "          const dataTable =\n",
              "            await google.colab.kernel.invokeFunction('convertToInteractive',\n",
              "                                                     [key], {});\n",
              "          if (!dataTable) return;\n",
              "\n",
              "          const docLinkHtml = 'Like what you see? Visit the ' +\n",
              "            '<a target=\"_blank\" href=https://colab.research.google.com/notebooks/data_table.ipynb>data table notebook</a>'\n",
              "            + ' to learn more about interactive tables.';\n",
              "          element.innerHTML = '';\n",
              "          dataTable['output_type'] = 'display_data';\n",
              "          await google.colab.output.renderOutput(dataTable, element);\n",
              "          const docLink = document.createElement('div');\n",
              "          docLink.innerHTML = docLinkHtml;\n",
              "          element.appendChild(docLink);\n",
              "        }\n",
              "      </script>\n",
              "    </div>\n",
              "  </div>\n",
              "  "
            ],
            "text/plain": [
              "                                              titles          authors  prices  \\\n",
              "0  It Ends With Us: The most heartbreaking novel ...   Colleen Hoover    9.24   \n",
              "1                                  It Starts with Us   Colleen Hoover   14.84   \n",
              "2                                  It Starts with Us   Colleen Hoover   16.42   \n",
              "3                                   The Climate Book   Greta Thunberg   31.60   \n",
              "4                                    Rooms of Wonder  Johanna Basford   17.49   \n",
              "\n",
              "     formats  rating  \n",
              "0  Paperback     4.0  \n",
              "1  Paperback     5.0  \n",
              "2   Hardback     5.0  \n",
              "3   Hardback     5.0  \n",
              "4  Paperback     4.0  "
            ]
          },
          "execution_count": 210,
          "metadata": {},
          "output_type": "execute_result"
        }
      ],
      "source": [
        "df.head()"
      ]
    },
    {
      "cell_type": "markdown",
      "metadata": {
        "id": "P1htUGYdZe2f"
      },
      "source": [
        "### Save the data for analysis"
      ]
    },
    {
      "cell_type": "code",
      "execution_count": null,
      "metadata": {
        "id": "_0LS-c8UZipO"
      },
      "outputs": [],
      "source": [
        "df.to_csv(\"book_depo_clean.csv\")# save for further analysis"
      ]
    }
  ],
  "metadata": {
    "accelerator": "TPU",
    "colab": {
      "collapsed_sections": [],
      "provenance": []
    },
    "gpuClass": "standard",
    "kernelspec": {
      "display_name": "Python 3.10.8 64-bit (microsoft store)",
      "language": "python",
      "name": "python3"
    },
    "language_info": {
      "codemirror_mode": {
        "name": "ipython",
        "version": 3
      },
      "file_extension": ".py",
      "mimetype": "text/x-python",
      "name": "python",
      "nbconvert_exporter": "python",
      "pygments_lexer": "ipython3",
      "version": "3.10.8"
    },
    "vscode": {
      "interpreter": {
        "hash": "73d4bf0df645579b93246e5d8de7f0ac23719207296942be80b58dc6b7a6dee5"
      }
    }
  },
  "nbformat": 4,
  "nbformat_minor": 0
}
